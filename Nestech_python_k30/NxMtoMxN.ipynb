{
 "cells": [
  {
   "cell_type": "markdown",
   "metadata": {},
   "source": [
    "# B1. tìm tương đương giữa 2 matrix\n",
    "00 -> 00 => 4x0 + 0 = 0  = 3xI + J  \n",
    "01 -> 01 => 4x0 + 1 = 1  = 3xI + J  \n",
    "...\n",
    "\n",
    "23 -> 32 => 4x2 + 3 = 11 = 3xI + J\n",
    "\n",
    "### quy luật chung\n",
    "NxM (3x4)-> MxN (4x3)\n",
    "\n",
    "Mxi + j = k = NxI + J\n",
    "\n",
    "# B2. loại suy, tìm ra nghiệm đúng của phương trình\n",
    "#### 4x1+2 = 6 = 3xI + J\n",
    "=> I = (6-J)/3 & (-1 < I < 4) & (-1 < J <3)\n",
    "- I = 0 & J = 6 sai\n",
    "- I = 1 & J = 3 sai\n",
    "- I = 2 & J = 0 => dung\n",
    "- I = 3 & J = -3 sai\n",
    "\n",
    "#### 4x2+1 = 9 = 3xI + J\n",
    "=> I = (9-J)/3 & (-1 < I < 4) & (-1< J < 3)\n",
    "- I = 0 & J = 9 sai\n",
    "- I = 1 & J = 6 sai\n",
    "- I = 2 & J = 3 sai\n",
    "- I = 3 & J = 0 => dung\n",
    " \n",
    "#### 4x2+3 = 11 = 3xI + J\n",
    "=> I = (11-J)/3 & (-1 < I < 4) & (-1 < J < 3)\n",
    "- I = 0 & J = 11 sai\n",
    "- I = 1 & J = 8 sai\n",
    "- I = 2 & J = 5 sai\n",
    "- I = 3 & J = 2 => dung\n",
    "- I = 4 & J = -1 sai\n",
    "\n",
    "### nhận thấy có 1 quy luật chung\n",
    "- 6/3 => được 2 dư 0 => I = 2 (được) J = 0 (dư)\n",
    "- 9/3 => được 3 dư 0=> I = 3 (được) J = 0 (dư)\n",
    "- 11/3 => được 3 dư 2 => I = 3 (được) J = 2 (dư)\n",
    "\n",
    "### tìm công thức chung\n",
    "- I = 11 // 3 = 3 => k // N => (M*i + j) // N\n",
    "\n",
    "- J = 11 % 3 = 2 => k % N => (M*i + j) % N\n",
    "\n",
    "# B3. Áp dụng code:\n",
    "- 1.chạy vòng lặp N và M\n",
    "- 2.gán gía trị của matrix A vào vị trí mới của matrix B\n",
    "\n",
    "I = (Mxi + j) // N\n",
    "\n",
    "J = (Mxi + j) % N\n",
    "\n",
    "B[I][J] = A[i][j]\n"
   ]
  },
  {
   "cell_type": "code",
   "execution_count": 1,
   "metadata": {},
   "outputs": [
    {
     "name": "stdout",
     "output_type": "stream",
     "text": [
      "[[1, 2, 3], [4, 5, 6], [7, 8, 9], [10, 11, 12]]\n"
     ]
    }
   ],
   "source": [
    "\n",
    "def covert(A: list):\n",
    "    N = len(A)\n",
    "    M = len(A[0])\n",
    "    #tạo trước matrix B có MxN\n",
    "    B = [[0] * N for _ in range(M)]\n",
    "    # loop for matrix A\n",
    "    for i in range(N):\n",
    "        for j in range(M):  \n",
    "            I = (M*i + j) // N\n",
    "            J = (M*i + j) % N\n",
    "            # gán giá trị của A vào vị trí của B\n",
    "            B[I][J] = A[i][j]\n",
    "    return B\n",
    "\n",
    "# A = [[1,2],[3,4],[5,6]]\n",
    "A = [[1,2,3,4],[5,6,7,8],[9, 10, 11, 12]]\n",
    "print(covert(A))\n"
   ]
  },
  {
   "cell_type": "code",
   "execution_count": null,
   "metadata": {},
   "outputs": [],
   "source": []
  }
 ],
 "metadata": {
  "kernelspec": {
   "display_name": "Python 3.9.2 64-bit",
   "language": "python",
   "name": "python3"
  },
  "language_info": {
   "codemirror_mode": {
    "name": "ipython",
    "version": 3
   },
   "file_extension": ".py",
   "mimetype": "text/x-python",
   "name": "python",
   "nbconvert_exporter": "python",
   "pygments_lexer": "ipython3",
   "version": "3.9.2"
  },
  "orig_nbformat": 4,
  "vscode": {
   "interpreter": {
    "hash": "916dbcbb3f70747c44a77c7bcd40155683ae19c65e1c03b4aa3499c5328201f1"
   }
  }
 },
 "nbformat": 4,
 "nbformat_minor": 2
}
