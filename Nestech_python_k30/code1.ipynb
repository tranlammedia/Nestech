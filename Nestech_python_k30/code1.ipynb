{
 "cells": [
  {
   "cell_type": "markdown",
   "metadata": {},
   "source": [
    "Bài 1:\n",
    "tìm con số may mắn trong 1 ma trận A có kích thước n x n\n",
    "Giả sử:\n",
    "A = [[3,7,8],[9,11,13],[15,16,17]]\n",
    "lucky_number = 15 vì theo quy luật:\n",
    "15 là con số nhỏ nhất trong hàng đó, và lớn nhất trong cột đó\n",
    "Ví dụ 2:\n",
    "matrix = [[1,10,4,2],\n",
    "        [9,3,8,7],\n",
    "        [15,16,17,12], \n",
    "        [1,5,2,9]]\n",
    "Đáp án: 12 (vị trí hàng 3 cột 4)"
   ]
  },
  {
   "cell_type": "code",
   "execution_count": 5,
   "metadata": {},
   "outputs": [
    {
     "name": "stdout",
     "output_type": "stream",
     "text": [
      "[[3, 7, 8], [15, 11, 13], [15, 16, 17]]\n",
      "15 [2,0]\n"
     ]
    }
   ],
   "source": [
    "# be nhat tren hang\n",
    "# lo'n nhat' tren co.t\n",
    "import numpy as np\n",
    "A = [[3,7,8],\n",
    "     [15,11,13],\n",
    "     [15,16,17]]\n",
    "\n",
    "y =  0\n",
    "x = 0\n",
    "for i in range(len(A)):\n",
    "    min_row = A[i][y]\n",
    "    for j in range(len(A[0])):\n",
    "        if A[i][j] < min_row:\n",
    "            min_row = A[i][j]\n",
    "            y = j\n",
    "    max_col = A[x][y]\n",
    "    for k in range(len(A)):\n",
    "        if A[k][y] > max_col:\n",
    "            max_col = A[k][y]\n",
    "            x = k\n",
    "    if min_row == max_col:\n",
    "        print(f'{A[x][y]} [{x},{y}]')\n"
   ]
  },
  {
   "cell_type": "markdown",
   "metadata": {},
   "source": [
    "## Covariance Matrix"
   ]
  },
  {
   "cell_type": "code",
   "execution_count": 38,
   "metadata": {},
   "outputs": [
    {
     "name": "stdout",
     "output_type": "stream",
     "text": [
      "- B1: lấy ma trận chuyển vị\n",
      "[[-2 -2]\n",
      " [-1  4]\n",
      " [ 2  3]]\n",
      "[[-2 -1  2]\n",
      " [-2  4  3]]\n",
      "- B2: Tìm tạo độ trung bình\n",
      "[-0.33333333  1.66666667]\n",
      "- B3: Tìm giá trị lệch của từng tọa độ với trung bình\n",
      "-> Lấy x_T - x_mean \n",
      "[[-0.33333333 -0.33333333 -0.33333333]\n",
      " [ 1.66666667  1.66666667  1.66666667]]\n",
      "[[-1.66666667 -0.66666667  2.33333333]\n",
      " [-3.66666667  2.33333333  1.33333333]]\n",
      "- B4: Tính hiệp phương sai, với công thức. C = 1/(N-1)*D*D_T\n",
      "[[ 4.33333333  3.83333333]\n",
      " [ 3.83333333 10.33333333]]\n"
     ]
    }
   ],
   "source": [
    "import numpy as np\n",
    "\n",
    "x = np.array([[-2, -2], [-1, 4], [2, 3]])\n",
    "\n",
    "print('- B1: lấy ma trận chuyển vị')\n",
    "x_T = x.T\n",
    "print(f'{x}')\n",
    "print(x_T)\n",
    "\n",
    "print('- B2: Tìm tạo độ trung bình')\n",
    "x_mean = np.array([sum(x_T[0])/len(x_T[0]), sum(x_T[1])/len(x_T[0])]).T\n",
    "print(x_mean)\n",
    "\n",
    "print('- B3: Tìm giá trị lệch của từng tọa độ với trung bình')\n",
    "print('-> Lấy x_T - x_mean ')\n",
    "x_mean_m = np.array([[x_mean[0] for x in range(len(x_T[0]))],\n",
    "                     [x_mean[1] for x in range(len(x_T[0]))]\n",
    "                     ])\n",
    "print(x_mean_m)\n",
    "D = x_T - x_mean_m\n",
    "print(D)\n",
    "\n",
    "print('- B4: Tính hiệp phương sai, với công thức. C = 1/(N-1)*D*D_T')\n",
    "C = 1 / ( len(x) - 1 ) * (D @ D.T)\n",
    "print(C)"
   ]
  },
  {
   "cell_type": "code",
   "execution_count": 4,
   "metadata": {},
   "outputs": [
    {
     "data": {
      "text/plain": [
       "array([0.        , 0.33333333, 0.66666667, 1.        ])"
      ]
     },
     "execution_count": 4,
     "metadata": {},
     "output_type": "execute_result"
    }
   ],
   "source": [
    "import numpy as np\n",
    "\n",
    "classifi = 3\n",
    "point = classifi + 1\n",
    "np.linspace(0, 1, point)\n",
    "# class 1: [0,0.33]\n",
    "# class 2: [>0.33,0.66]\n",
    "# class 3: [>0.66, 1]"
   ]
  },
  {
   "cell_type": "code",
   "execution_count": 28,
   "metadata": {},
   "outputs": [
    {
     "name": "stdout",
     "output_type": "stream",
     "text": [
      "['4,2,10,4,6,7,10,9,9,8,5,7\\n', 'T1,T2,T3,T4,T5,T6,T7,T8,T9,T10,T11,T12']\n",
      "[4, 2, 10, 4, 6, 7, 10, 9, 9, 8, 5, 7]\n",
      "['T1', 'T2', 'T3', 'T4', 'T5', 'T6', 'T7', 'T8', 'T9', 'T10', 'T11', 'T12']\n"
     ]
    }
   ],
   "source": [
    "# 1 gán giá trị cho doanhsoX thoigianX\n",
    "f  = open('1.txt')\n",
    "text = f.readlines()\n",
    "\n",
    "[doanhsoX, thoigianX] = text\n",
    "doanhsoX = [int(x) for x in doanhsoX.split(',')]\n",
    "thoigianX =  thoigianX.split(',')\n",
    "\n",
    "print(doanhsoX)\n",
    "print(thoigianX)"
   ]
  },
  {
   "cell_type": "code",
   "execution_count": 29,
   "metadata": {},
   "outputs": [
    {
     "name": "stdout",
     "output_type": "stream",
     "text": [
      "4\n",
      "2\n",
      "10\n",
      "4\n",
      "6\n",
      "7\n",
      "10\n",
      "9\n",
      "9\n",
      "8\n",
      "5\n",
      "7\n"
     ]
    }
   ],
   "source": [
    "# 2 xuẩt doanh số theo mỗi dòng\n",
    "for i in doanhsoX:\n",
    "    print(i)"
   ]
  },
  {
   "cell_type": "code",
   "execution_count": 32,
   "metadata": {},
   "outputs": [
    {
     "name": "stdout",
     "output_type": "stream",
     "text": [
      "10\n"
     ]
    }
   ],
   "source": [
    "# 3 in ra doanh so cao nhat\n",
    "doanhthu_max = max(doanhsoX)\n",
    "print(doanhthu_max)"
   ]
  },
  {
   "cell_type": "code",
   "execution_count": 34,
   "metadata": {},
   "outputs": [
    {
     "name": "stdout",
     "output_type": "stream",
     "text": [
      "T3\n",
      "T7\n"
     ]
    }
   ],
   "source": [
    "# 4 in ra thanh co doanh thu cao nhat\n",
    "for i  in range(len(doanhsoX)):\n",
    "    if doanhthu_max == doanhsoX[i]:\n",
    "        print(thoigianX[i])"
   ]
  },
  {
   "cell_type": "code",
   "execution_count": 38,
   "metadata": {},
   "outputs": [
    {
     "data": {
      "image/png": "[encoded data removed]",
      "text/plain": [
       "<Figure size 1000x600 with 1 Axes>"
      ]
     },
     "metadata": {},
     "output_type": "display_data"
    }
   ],
   "source": [
    "# 5 vẽ biểu đồ\n",
    "import pandas as pd\n",
    "import matplotlib.pyplot as plt\n",
    "\n",
    "# Dữ liệu doanh thu và thời gian\n",
    "data = {\n",
    "    'Thời gian': thoigianX,\n",
    "    'Doanh thu': doanhsoX\n",
    "}\n",
    "\n",
    "# Tạo DataFrame từ dữ liệu\n",
    "df = pd.DataFrame(data)\n",
    "\n",
    "\n",
    "# Đặt cột 'Thời gian' làm chỉ mục (index) của DataFrame\n",
    "df.set_index('Thời gian', inplace=True)\n",
    "\n",
    "# Vẽ biểu đồ\n",
    "df.plot(kind='line', marker='o', color='b', figsize=(10, 6))\n",
    "plt.xlabel('Thời gian')\n",
    "plt.ylabel('Doanh thu')\n",
    "plt.title('Biểu đồ doanh thu theo thời gian')\n",
    "plt.grid(True)\n",
    "plt.show()"
   ]
  },
  {
   "cell_type": "markdown",
   "metadata": {},
   "source": [
    "## Giới hạn 1 ^ (vô cùng)"
   ]
  },
  {
   "cell_type": "code",
   "execution_count": 5,
   "metadata": {},
   "outputs": [
    {
     "data": {
      "text/plain": [
       "<BarContainer object of 149 artists>"
      ]
     },
     "execution_count": 5,
     "metadata": {},
     "output_type": "execute_result"
    },
    {
     "data": {
      "image/png": "[encoded data removed]",
      "text/plain": [
       "<Figure size 640x480 with 1 Axes>"
      ]
     },
     "metadata": {},
     "output_type": "display_data"
    }
   ],
   "source": [
    "import matplotlib.pyplot as plt\n",
    "\n",
    "length = 150\n",
    "value = [(1+1/i)**i for i in range(1,length)]\n",
    "index = [i for i in range(1,length)]\n",
    "\n",
    "plt.bar(index,value)"
   ]
  }
 ],
 "metadata": {
  "kernelspec": {
   "display_name": "demo",
   "language": "python",
   "name": "python3"
  },
  "language_info": {
   "codemirror_mode": {
    "name": "ipython",
    "version": 3
   },
   "file_extension": ".py",
   "mimetype": "text/x-python",
   "name": "python",
   "nbconvert_exporter": "python",
   "pygments_lexer": "ipython3",
   "version": "3.11.2"
  },
  "orig_nbformat": 4
 },
 "nbformat": 4,
 "nbformat_minor": 2
}
