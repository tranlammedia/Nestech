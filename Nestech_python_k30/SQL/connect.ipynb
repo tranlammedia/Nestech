{
 "cells": [
  {
   "cell_type": "code",
   "execution_count": 1,
   "metadata": {},
   "outputs": [],
   "source": [
    "import mysql.connector as cnn\n",
    "import pandas as pd\n",
    "db = cnn.connect(user='mysql', \n",
    "                              password='hayashi0811',\n",
    "                              host='158.179.165.88',\n",
    "                              database='k30_final'\n",
    "                              )"
   ]
  },
  {
   "cell_type": "code",
   "execution_count": 2,
   "metadata": {},
   "outputs": [],
   "source": [
    "cursor = db.cursor()\n",
    "\n",
    "query = \"SELECT * FROM order_details\"\n",
    "# for res in cursor:\n",
    "#     print(res)\n"
   ]
  },
  {
   "cell_type": "code",
   "execution_count": 3,
   "metadata": {},
   "outputs": [],
   "source": [
    "cursor.execute(query)\n",
    "result = cursor.fetchall()\n"
   ]
  },
  {
   "cell_type": "code",
   "execution_count": 7,
   "metadata": {},
   "outputs": [
    {
     "data": {
      "text/plain": [
       "[('Order ID', 252, None, None, None, None, 1, 16, 255),\n",
       " ('Amount', 5, None, None, None, None, 1, 32768, 63),\n",
       " ('Profit', 5, None, None, None, None, 1, 32768, 63),\n",
       " ('Quantity', 3, None, None, None, None, 1, 32768, 63),\n",
       " ('Category', 252, None, None, None, None, 1, 16, 255),\n",
       " ('Sub-Category', 252, None, None, None, None, 1, 16, 255),\n",
       " ('ID', 3, None, None, None, None, 0, 49667, 63)]"
      ]
     },
     "execution_count": 7,
     "metadata": {},
     "output_type": "execute_result"
    }
   ],
   "source": [
    "cursor.description"
   ]
  },
  {
   "cell_type": "code",
   "execution_count": 5,
   "metadata": {},
   "outputs": [],
   "source": [
    "df = pd.DataFrame(result, columns=[i[0] for i in cursor.description])"
   ]
  },
  {
   "cell_type": "code",
   "execution_count": 8,
   "metadata": {},
   "outputs": [],
   "source": [
    "unit = df['Amount'] / df['Quantity']\n",
    "df.insert(5,'Unit',unit)"
   ]
  },
  {
   "cell_type": "code",
   "execution_count": 11,
   "metadata": {},
   "outputs": [
    {
     "data": {
      "text/html": [
       "<div>\n",
       "<style scoped>\n",
       "    .dataframe tbody tr th:only-of-type {\n",
       "        vertical-align: middle;\n",
       "    }\n",
       "\n",
       "    .dataframe tbody tr th {\n",
       "        vertical-align: top;\n",
       "    }\n",
       "\n",
       "    .dataframe thead th {\n",
       "        text-align: right;\n",
       "    }\n",
       "</style>\n",
       "<table border=\"1\" class=\"dataframe\">\n",
       "  <thead>\n",
       "    <tr style=\"text-align: right;\">\n",
       "      <th></th>\n",
       "      <th>Order ID</th>\n",
       "      <th>Amount</th>\n",
       "      <th>Profit</th>\n",
       "      <th>Quantity</th>\n",
       "      <th>Category</th>\n",
       "      <th>Unit</th>\n",
       "      <th>Sub-Category</th>\n",
       "      <th>ID</th>\n",
       "    </tr>\n",
       "  </thead>\n",
       "  <tbody>\n",
       "    <tr>\n",
       "      <th>1129</th>\n",
       "      <td>B-25993</td>\n",
       "      <td>4363.0</td>\n",
       "      <td>305.0</td>\n",
       "      <td>5</td>\n",
       "      <td>Furniture</td>\n",
       "      <td>872.600000</td>\n",
       "      <td>Tables</td>\n",
       "      <td>1130</td>\n",
       "    </tr>\n",
       "    <tr>\n",
       "      <th>1203</th>\n",
       "      <td>B-26003</td>\n",
       "      <td>1745.0</td>\n",
       "      <td>122.0</td>\n",
       "      <td>2</td>\n",
       "      <td>Furniture</td>\n",
       "      <td>872.500000</td>\n",
       "      <td>Tables</td>\n",
       "      <td>1204</td>\n",
       "    </tr>\n",
       "    <tr>\n",
       "      <th>10</th>\n",
       "      <td>B-25602</td>\n",
       "      <td>2617.0</td>\n",
       "      <td>1151.0</td>\n",
       "      <td>4</td>\n",
       "      <td>Electronics</td>\n",
       "      <td>654.250000</td>\n",
       "      <td>Phones</td>\n",
       "      <td>11</td>\n",
       "    </tr>\n",
       "    <tr>\n",
       "      <th>607</th>\n",
       "      <td>B-25830</td>\n",
       "      <td>1954.0</td>\n",
       "      <td>782.0</td>\n",
       "      <td>3</td>\n",
       "      <td>Electronics</td>\n",
       "      <td>651.333333</td>\n",
       "      <td>Phones</td>\n",
       "      <td>608</td>\n",
       "    </tr>\n",
       "    <tr>\n",
       "      <th>835</th>\n",
       "      <td>B-25923</td>\n",
       "      <td>3873.0</td>\n",
       "      <td>891.0</td>\n",
       "      <td>6</td>\n",
       "      <td>Electronics</td>\n",
       "      <td>645.500000</td>\n",
       "      <td>Phones</td>\n",
       "      <td>836</td>\n",
       "    </tr>\n",
       "    <tr>\n",
       "      <th>815</th>\n",
       "      <td>B-25873</td>\n",
       "      <td>1275.0</td>\n",
       "      <td>357.0</td>\n",
       "      <td>2</td>\n",
       "      <td>Electronics</td>\n",
       "      <td>637.500000</td>\n",
       "      <td>Phones</td>\n",
       "      <td>816</td>\n",
       "    </tr>\n",
       "    <tr>\n",
       "      <th>1299</th>\n",
       "      <td>B-26028</td>\n",
       "      <td>1272.0</td>\n",
       "      <td>547.0</td>\n",
       "      <td>2</td>\n",
       "      <td>Electronics</td>\n",
       "      <td>636.000000</td>\n",
       "      <td>Phones</td>\n",
       "      <td>1300</td>\n",
       "    </tr>\n",
       "    <tr>\n",
       "      <th>608</th>\n",
       "      <td>B-25755</td>\n",
       "      <td>1709.0</td>\n",
       "      <td>564.0</td>\n",
       "      <td>3</td>\n",
       "      <td>Clothing</td>\n",
       "      <td>569.666667</td>\n",
       "      <td>Trousers</td>\n",
       "      <td>609</td>\n",
       "    </tr>\n",
       "    <tr>\n",
       "      <th>820</th>\n",
       "      <td>B-25877</td>\n",
       "      <td>1137.0</td>\n",
       "      <td>568.0</td>\n",
       "      <td>2</td>\n",
       "      <td>Clothing</td>\n",
       "      <td>568.500000</td>\n",
       "      <td>Trousers</td>\n",
       "      <td>821</td>\n",
       "    </tr>\n",
       "    <tr>\n",
       "      <th>1021</th>\n",
       "      <td>B-25902</td>\n",
       "      <td>1700.0</td>\n",
       "      <td>85.0</td>\n",
       "      <td>3</td>\n",
       "      <td>Clothing</td>\n",
       "      <td>566.666667</td>\n",
       "      <td>Trousers</td>\n",
       "      <td>1022</td>\n",
       "    </tr>\n",
       "  </tbody>\n",
       "</table>\n",
       "</div>"
      ],
      "text/plain": [
       "     Order ID  Amount  Profit  Quantity     Category        Unit Sub-Category  \\\n",
       "1129  B-25993  4363.0   305.0         5    Furniture  872.600000       Tables   \n",
       "1203  B-26003  1745.0   122.0         2    Furniture  872.500000       Tables   \n",
       "10    B-25602  2617.0  1151.0         4  Electronics  654.250000       Phones   \n",
       "607   B-25830  1954.0   782.0         3  Electronics  651.333333       Phones   \n",
       "835   B-25923  3873.0   891.0         6  Electronics  645.500000       Phones   \n",
       "815   B-25873  1275.0   357.0         2  Electronics  637.500000       Phones   \n",
       "1299  B-26028  1272.0   547.0         2  Electronics  636.000000       Phones   \n",
       "608   B-25755  1709.0   564.0         3     Clothing  569.666667     Trousers   \n",
       "820   B-25877  1137.0   568.0         2     Clothing  568.500000     Trousers   \n",
       "1021  B-25902  1700.0    85.0         3     Clothing  566.666667     Trousers   \n",
       "\n",
       "        ID  \n",
       "1129  1130  \n",
       "1203  1204  \n",
       "10      11  \n",
       "607    608  \n",
       "835    836  \n",
       "815    816  \n",
       "1299  1300  \n",
       "608    609  \n",
       "820    821  \n",
       "1021  1022  "
      ]
     },
     "execution_count": 11,
     "metadata": {},
     "output_type": "execute_result"
    }
   ],
   "source": [
    "df.sort_values(['Unit'], ascending=0)[:10]"
   ]
  }
 ],
 "metadata": {
  "kernelspec": {
   "display_name": "demo",
   "language": "python",
   "name": "python3"
  },
  "language_info": {
   "codemirror_mode": {
    "name": "ipython",
    "version": 3
   },
   "file_extension": ".py",
   "mimetype": "text/x-python",
   "name": "python",
   "nbconvert_exporter": "python",
   "pygments_lexer": "ipython3",
   "version": "3.11.2"
  },
  "orig_nbformat": 4
 },
 "nbformat": 4,
 "nbformat_minor": 2
}
