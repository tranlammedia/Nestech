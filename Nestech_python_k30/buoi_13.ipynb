{
 "cells": [
  {
   "cell_type": "code",
   "execution_count": 53,
   "id": "c4058a36-b2c6-4b5f-a647-dc17b98bd3e8",
   "metadata": {},
   "outputs": [
    {
     "name": "stdout",
     "output_type": "stream",
     "text": [
      "[1, 2, 3, 4, 5, 6, 7, 8, 9, 10]\n",
      "[23, 25, 26, 28, 27, 40, 30, 24, 29, 32]\n",
      "[0.8, 0.5, 0.5, 0.7, 0.7, 0.8, 0.2, 0.4, 0.2, 0.3]\n",
      "   id  annual_income  age  family_size  spending_score\n",
      "0   1      200000000   23            3             0.8\n",
      "1   2      400000000   25            4             0.5\n",
      "2   3      500000000   26            4             0.5\n",
      "3   4      800000000   28            5             0.7\n",
      "4   5     1000000000   27            5             0.7\n",
      "5   6     1500000000   40            6             0.8\n",
      "6   7      100000000   30            3             0.2\n",
      "7   8      600000000   24            2             0.4\n",
      "8   9      300000000   29            1             0.2\n",
      "9  10       40000000   32            1             0.3\n"
     ]
    }
   ],
   "source": [
    "import pandas as pd\n",
    "\n",
    "# Mo file csv hoac excel\n",
    "\n",
    "# dataframe = df\n",
    "df = pd.read_excel('spending_score.xlsx')\n",
    "# df = pd.read_excel('D:\\data\\spending_score.xlsx')\n",
    "# serie\n",
    "uid = df['id']\n",
    "age = df['age']\n",
    "spending_score = df['spending_score']\n",
    "print(uid.to_list())\n",
    "print(age.to_list())\n",
    "print(spending_score.to_list())\n",
    "print(df)"
   ]
  },
  {
   "cell_type": "code",
   "execution_count": 54,
   "id": "d858c7e1-0f52-4645-87c7-eea6c9a41f23",
   "metadata": {},
   "outputs": [
    {
     "name": "stdout",
     "output_type": "stream",
     "text": [
      "<generator object DataFrame.iterrows at 0x7fafea145c80>\n",
      "200000000.0 23.0\n",
      "400000000.0 25.0\n",
      "500000000.0 26.0\n",
      "800000000.0 28.0\n",
      "1000000000.0 27.0\n",
      "1500000000.0 40.0\n",
      "100000000.0 30.0\n",
      "600000000.0 24.0\n",
      "300000000.0 29.0\n",
      "40000000.0 32.0\n"
     ]
    }
   ],
   "source": [
    "# row\n",
    "'''\n",
    "row = {\n",
    "    'uid': 1.0,\n",
    "    'annual_income': 200000000.0,\n",
    "    'age': 23.0,\n",
    "    'family_size: 3.0,\n",
    "    'spending_score': 0.8\n",
    "}\n",
    "'''\n",
    "\n",
    "print(df.iterrows())\n",
    "for _, row in df.iterrows():\n",
    "    print(row['annual_income'], row['age'])"
   ]
  },
  {
   "cell_type": "code",
   "execution_count": 55,
   "id": "8db0bb84-a8c5-4002-bd4b-46483c649346",
   "metadata": {},
   "outputs": [
    {
     "name": "stdout",
     "output_type": "stream",
     "text": [
      "   id  annual_income  age  family_size  spending_score\n",
      "0   1      300000000   23            3             0.8\n",
      "1   2      400000000   25            4             0.5\n",
      "2   3      500000000   26            4             0.5\n",
      "3   4      800000000   28            5             0.7\n",
      "4   5     1000000000   27            5             0.7\n",
      "5   6     1500000000   40            6             0.8\n",
      "6   7      100000000   30            3             0.2\n",
      "7   8      600000000   24            2             0.4\n",
      "8   9      300000000   29            1             0.2\n",
      "9  10       40000000   32            1             0.3\n",
      "   id  annual_income  age  family_size  spending_score\n",
      "1   2      400000000   25            4             0.5\n",
      "2   3      500000000   26            4             0.5\n",
      "3   4      800000000   28            5             0.7\n",
      "4   5     1000000000   27            5             0.7\n",
      "5   6     1500000000   40            6             0.8\n",
      "6   7      100000000   30            3             0.2\n",
      "7   8      600000000   24            2             0.4\n",
      "8   9      300000000   29            1             0.2\n",
      "9  10       40000000   32            1             0.3\n"
     ]
    }
   ],
   "source": [
    "df.iloc[0,1] = 300000000 # iloc: i = index, loc = location\n",
    "print(df)\n",
    "print(df.loc[(df['age']> 23)])"
   ]
  },
  {
   "cell_type": "code",
   "execution_count": 56,
   "id": "5553f9ed-f32e-46fe-bf82-86caae27a08b",
   "metadata": {},
   "outputs": [
    {
     "name": "stdout",
     "output_type": "stream",
     "text": [
      "300000000 False\n",
      "400000000 False\n",
      "500000000 True\n",
      "800000000 True\n",
      "1000000000 True\n",
      "1500000000 True\n",
      "100000000 False\n",
      "600000000 True\n",
      "300000000 False\n",
      "40000000 False\n"
     ]
    }
   ],
   "source": [
    "# cach 1 trong viec xu li serie (cot)\n",
    "annual_income = df['annual_income'].to_list()\n",
    "for income in annual_income:\n",
    "    if income >= 500000000:\n",
    "        print(income, True)\n",
    "    else:\n",
    "        print(income, False)"
   ]
  },
  {
   "cell_type": "code",
   "execution_count": 57,
   "id": "c4b528a1-9e5a-40b1-b598-38173a29b40f",
   "metadata": {},
   "outputs": [
    {
     "data": {
      "text/plain": [
       "0    False\n",
       "1    False\n",
       "2    False\n",
       "3     True\n",
       "4     True\n",
       "5     True\n",
       "6    False\n",
       "7     True\n",
       "8    False\n",
       "9    False\n",
       "Name: annual_income, dtype: bool"
      ]
     },
     "execution_count": 57,
     "metadata": {},
     "output_type": "execute_result"
    }
   ],
   "source": [
    "# cach 2 trong viec xu li serie (cot)\n",
    "annual_income = df['annual_income']\n",
    "annual_income > 500000000"
   ]
  },
  {
   "cell_type": "code",
   "execution_count": 58,
   "id": "8f40f66e-d0a4-4bb8-9a47-c2e5fd1e6ded",
   "metadata": {},
   "outputs": [
    {
     "data": {
      "text/plain": [
       "0    False\n",
       "1    False\n",
       "2    False\n",
       "3    False\n",
       "4    False\n",
       "5     True\n",
       "6    False\n",
       "7    False\n",
       "8    False\n",
       "9     True\n",
       "Name: age, dtype: bool"
      ]
     },
     "execution_count": 58,
     "metadata": {},
     "output_type": "execute_result"
    }
   ],
   "source": [
    "age = df['age']\n",
    "age > 30"
   ]
  },
  {
   "cell_type": "code",
   "execution_count": 59,
   "id": "72cbb200-ed79-4f44-b35e-fcb3c7807b5a",
   "metadata": {},
   "outputs": [],
   "source": [
    "# df = dataframe = bang\n",
    "# .apply(function): tren toan bo cai bang nay, toi se ap dung 1 cai ham do tui quy dinh vao\n",
    "# function = lambda x: str(x['age']) + ' ' + str(x['family_size'])\n",
    "# axis = 1, toi se xu li theo tung hang\n",
    "# axis = 0 ,toi se xu li theo tung cot\n",
    "# lambda la 1 function ao, voi input la x --> lambda x = la ham ao ten la lambda voi input la x\n",
    "# : sau lambda x la cai ham ma cac ban mong muon thuc thi\n",
    "# df.apply(lambda x: str(x['age']) + ' ' + str(x['family_size']), axis=1)\n",
    "df['level'] = df.apply(lambda x: x['annual_income'] >= 500000000, axis=1)"
   ]
  },
  {
   "cell_type": "code",
   "execution_count": 60,
   "id": "a7957a98-d6a7-4d00-965a-60881269c330",
   "metadata": {},
   "outputs": [
    {
     "data": {
      "text/html": [
       "<div>\n",
       "<style scoped>\n",
       "    .dataframe tbody tr th:only-of-type {\n",
       "        vertical-align: middle;\n",
       "    }\n",
       "\n",
       "    .dataframe tbody tr th {\n",
       "        vertical-align: top;\n",
       "    }\n",
       "\n",
       "    .dataframe thead th {\n",
       "        text-align: right;\n",
       "    }\n",
       "</style>\n",
       "<table border=\"1\" class=\"dataframe\">\n",
       "  <thead>\n",
       "    <tr style=\"text-align: right;\">\n",
       "      <th></th>\n",
       "      <th>id</th>\n",
       "      <th>annual_income</th>\n",
       "      <th>age</th>\n",
       "      <th>family_size</th>\n",
       "      <th>spending_score</th>\n",
       "      <th>level</th>\n",
       "    </tr>\n",
       "  </thead>\n",
       "  <tbody>\n",
       "    <tr>\n",
       "      <th>0</th>\n",
       "      <td>1</td>\n",
       "      <td>300000000</td>\n",
       "      <td>23</td>\n",
       "      <td>3</td>\n",
       "      <td>0.8</td>\n",
       "      <td>False</td>\n",
       "    </tr>\n",
       "    <tr>\n",
       "      <th>1</th>\n",
       "      <td>2</td>\n",
       "      <td>400000000</td>\n",
       "      <td>25</td>\n",
       "      <td>4</td>\n",
       "      <td>0.5</td>\n",
       "      <td>False</td>\n",
       "    </tr>\n",
       "    <tr>\n",
       "      <th>2</th>\n",
       "      <td>3</td>\n",
       "      <td>500000000</td>\n",
       "      <td>26</td>\n",
       "      <td>4</td>\n",
       "      <td>0.5</td>\n",
       "      <td>True</td>\n",
       "    </tr>\n",
       "    <tr>\n",
       "      <th>3</th>\n",
       "      <td>4</td>\n",
       "      <td>800000000</td>\n",
       "      <td>28</td>\n",
       "      <td>5</td>\n",
       "      <td>0.7</td>\n",
       "      <td>True</td>\n",
       "    </tr>\n",
       "    <tr>\n",
       "      <th>4</th>\n",
       "      <td>5</td>\n",
       "      <td>1000000000</td>\n",
       "      <td>27</td>\n",
       "      <td>5</td>\n",
       "      <td>0.7</td>\n",
       "      <td>True</td>\n",
       "    </tr>\n",
       "    <tr>\n",
       "      <th>5</th>\n",
       "      <td>6</td>\n",
       "      <td>1500000000</td>\n",
       "      <td>40</td>\n",
       "      <td>6</td>\n",
       "      <td>0.8</td>\n",
       "      <td>True</td>\n",
       "    </tr>\n",
       "    <tr>\n",
       "      <th>6</th>\n",
       "      <td>7</td>\n",
       "      <td>100000000</td>\n",
       "      <td>30</td>\n",
       "      <td>3</td>\n",
       "      <td>0.2</td>\n",
       "      <td>False</td>\n",
       "    </tr>\n",
       "    <tr>\n",
       "      <th>7</th>\n",
       "      <td>8</td>\n",
       "      <td>600000000</td>\n",
       "      <td>24</td>\n",
       "      <td>2</td>\n",
       "      <td>0.4</td>\n",
       "      <td>True</td>\n",
       "    </tr>\n",
       "    <tr>\n",
       "      <th>8</th>\n",
       "      <td>9</td>\n",
       "      <td>300000000</td>\n",
       "      <td>29</td>\n",
       "      <td>1</td>\n",
       "      <td>0.2</td>\n",
       "      <td>False</td>\n",
       "    </tr>\n",
       "    <tr>\n",
       "      <th>9</th>\n",
       "      <td>10</td>\n",
       "      <td>40000000</td>\n",
       "      <td>32</td>\n",
       "      <td>1</td>\n",
       "      <td>0.3</td>\n",
       "      <td>False</td>\n",
       "    </tr>\n",
       "  </tbody>\n",
       "</table>\n",
       "</div>"
      ],
      "text/plain": [
       "   id  annual_income  age  family_size  spending_score  level\n",
       "0   1      300000000   23            3             0.8  False\n",
       "1   2      400000000   25            4             0.5  False\n",
       "2   3      500000000   26            4             0.5   True\n",
       "3   4      800000000   28            5             0.7   True\n",
       "4   5     1000000000   27            5             0.7   True\n",
       "5   6     1500000000   40            6             0.8   True\n",
       "6   7      100000000   30            3             0.2  False\n",
       "7   8      600000000   24            2             0.4   True\n",
       "8   9      300000000   29            1             0.2  False\n",
       "9  10       40000000   32            1             0.3  False"
      ]
     },
     "execution_count": 60,
     "metadata": {},
     "output_type": "execute_result"
    }
   ],
   "source": [
    "df"
   ]
  },
  {
   "cell_type": "code",
   "execution_count": 61,
   "id": "cf95ad8f-3281-46eb-90bd-67e80c3ec488",
   "metadata": {},
   "outputs": [],
   "source": [
    "# Bai tap ve nha\n",
    "# Danh gia xem nguoi do co dang di lam cong so hay khong, biet rang >= 23 tuoi la di lam cong so, neu dung luu lai True, neu sai la luu la False \n",
    "# Nguoi do co kha nang la dang song cung ba va cung me hay khong, biet >= 3 thi moi co the song cung ba me duoc, neu dung la True, sai la False\n",
    "# Xet xem la nguoi do thuoc tang lop nao: du gia (2), trung luu (1), binh dan (0). Du gia, Thu nhap hang nam/so tuoi > 30, 10 den 30: trung luu, <10 la binh dan"
   ]
  },
  {
   "cell_type": "markdown",
   "id": "72ddf988",
   "metadata": {},
   "source": [
    "# Bai tập"
   ]
  },
  {
   "cell_type": "markdown",
   "id": "2e674e9e",
   "metadata": {},
   "source": [
    "#### import data"
   ]
  },
  {
   "cell_type": "code",
   "execution_count": 91,
   "id": "a7ac6a78",
   "metadata": {},
   "outputs": [
    {
     "name": "stdout",
     "output_type": "stream",
     "text": [
      "   id  annual_income  age  family_size  spending_score\n",
      "0   1      200000000   23            3             0.8\n",
      "1   2      400000000   25            4             0.5\n",
      "2   3      500000000   26            4             0.5\n",
      "3   4      800000000   28            5             0.7\n",
      "4   5     1000000000   27            5             0.7\n",
      "5   6     1500000000   40            6             0.8\n",
      "6   7      100000000   30            3             0.2\n",
      "7   8      600000000   24            2             0.4\n",
      "8   9      300000000   29            1             0.2\n",
      "9  10       40000000   32            1             0.3\n"
     ]
    }
   ],
   "source": [
    "import pandas as pd\n",
    "\n",
    "df = pd.read_excel('spending_score.xlsx')\n",
    "print(df)"
   ]
  },
  {
   "cell_type": "markdown",
   "id": "9ee17be9",
   "metadata": {},
   "source": [
    "#### 1.Danh gia xem nguoi do co dang di lam cong so hay khong, biet rang >= 23 tuoi la di lam cong so, neu dung luu lai True, neu sai la luu la False \n"
   ]
  },
  {
   "cell_type": "code",
   "execution_count": 82,
   "id": "28033f2d",
   "metadata": {},
   "outputs": [
    {
     "name": "stdout",
     "output_type": "stream",
     "text": [
      "   id  age  working\n",
      "0   1   23     True\n",
      "1   2   25     True\n",
      "2   3   26     True\n",
      "3   4   28     True\n",
      "4   5   27     True\n",
      "5   6   40     True\n",
      "6   7   30     True\n",
      "7   8   24     True\n",
      "8   9   29     True\n",
      "9  10   32     True\n"
     ]
    }
   ],
   "source": [
    "df['working'] = df.apply(lambda x: x['age'] >=23, axis = 1)\n",
    "print(df[['id','age','working']])"
   ]
  },
  {
   "cell_type": "markdown",
   "id": "7f2b7921",
   "metadata": {},
   "source": [
    "#### 2.Nguoi do co kha nang la dang song cung ba va cung me hay khong, biet >= 3 thi moi co the song cung ba me duoc, neu dung la True, sai la False\n"
   ]
  },
  {
   "cell_type": "code",
   "execution_count": 75,
   "id": "f0a60e59",
   "metadata": {},
   "outputs": [
    {
     "name": "stdout",
     "output_type": "stream",
     "text": [
      "   id  family_size  isParents\n",
      "0   1            3       True\n",
      "1   2            4       True\n",
      "2   3            4       True\n",
      "3   4            5       True\n",
      "4   5            5       True\n",
      "5   6            6       True\n",
      "6   7            3       True\n",
      "7   8            2      False\n",
      "8   9            1      False\n",
      "9  10            1      False\n"
     ]
    }
   ],
   "source": [
    "df['isParents'] = df['family_size'].apply(lambda x : x >=3)\n",
    "print(df[['id','family_size','isParents']])"
   ]
  },
  {
   "cell_type": "markdown",
   "id": "6835e25a",
   "metadata": {},
   "source": [
    "#### 3.Xet xem la nguoi do thuoc tang lop nao: du gia (2), trung luu (1), binh dan (0). Du gia, Thu nhap hang nam/so tuoi > 30, 10 den 30: trung luu, <10 la binh dan\n"
   ]
  },
  {
   "cell_type": "code",
   "execution_count": 110,
   "id": "376a9194",
   "metadata": {},
   "outputs": [
    {
     "name": "stdout",
     "output_type": "stream",
     "text": [
      "   id  annual_income  age  family_size  spending_score  working      class\n",
      "0   1      200000000   23            3             0.8     True   Binh dan\n",
      "1   2      400000000   25            4             0.5     True  Trung Luu\n",
      "2   3      500000000   26            4             0.5     True  Trung Luu\n",
      "3   4      800000000   28            5             0.7     True  Trung Luu\n",
      "4   5     1000000000   27            5             0.7     True     Du gia\n",
      "5   6     1500000000   40            6             0.8     True     Du gia\n",
      "6   7      100000000   30            3             0.2     True   Binh dan\n",
      "7   8      600000000   24            2             0.4     True  Trung Luu\n",
      "8   9      300000000   29            1             0.2     True  Trung Luu\n",
      "9  10       40000000   32            1             0.3     True   Binh dan\n"
     ]
    }
   ],
   "source": [
    "\n",
    "df['class'] = df.apply(lambda x: 'Du gia' if x['annual_income']/x['age'] > 30000000  \n",
    "                                    else  (\n",
    "                                        'Trung Luu' if x['annual_income']/x['age'] <= 30000000 and x['annual_income']/x['age'] >= 10000000              \n",
    "                                            else 'Binh dan'\n",
    "                                            ),\n",
    "                       axis=1)\n",
    "print(df[['id','annual_income','age','class']])"
   ]
  },
  {
   "cell_type": "code",
   "execution_count": 114,
   "id": "cea0f969",
   "metadata": {},
   "outputs": [
    {
     "name": "stdout",
     "output_type": "stream",
     "text": [
      "   id  annual_income  age    class_2\n",
      "0   1      200000000   23   Binh dan\n",
      "1   2      400000000   25  Trung luu\n",
      "2   3      500000000   26  Trung luu\n",
      "3   4      800000000   28  Trung luu\n",
      "4   5     1000000000   27     Du gia\n",
      "5   6     1500000000   40     Du gia\n",
      "6   7      100000000   30   Binh dan\n",
      "7   8      600000000   24  Trung luu\n",
      "8   9      300000000   29  Trung luu\n",
      "9  10       40000000   32   Binh dan\n"
     ]
    }
   ],
   "source": [
    "def check(x):\n",
    "    value = x['annual_income']/x['age']\n",
    "    if value >30000000:\n",
    "      return 'Du gia'\n",
    "    elif value >=10000000 and value <=30000000:\n",
    "      return 'Trung luu'\n",
    "    else:\n",
    "      return 'Binh dan'\n",
    "df['class_2'] = df.apply(lambda x: check(x), axis=1)\n",
    "print(df[['id','annual_income','age','class_2']])\n"
   ]
  }
 ],
 "metadata": {
  "kernelspec": {
   "display_name": "Python 3.9.2 64-bit",
   "language": "python",
   "name": "python3"
  },
  "language_info": {
   "codemirror_mode": {
    "name": "ipython",
    "version": 3
   },
   "file_extension": ".py",
   "mimetype": "text/x-python",
   "name": "python",
   "nbconvert_exporter": "python",
   "pygments_lexer": "ipython3",
   "version": "3.9.2"
  },
  "vscode": {
   "interpreter": {
    "hash": "916dbcbb3f70747c44a77c7bcd40155683ae19c65e1c03b4aa3499c5328201f1"
   }
  }
 },
 "nbformat": 4,
 "nbformat_minor": 5
}
